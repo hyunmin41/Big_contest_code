{
 "cells": [
  {
   "cell_type": "code",
   "execution_count": null,
   "metadata": {},
   "outputs": [],
   "source": [
    "import numpy as np \n",
    "import pandas as pd \n",
    "import matplotlib.pyplot as plt\n",
    "import seaborn as sns\n",
    "import torch\n",
    "import os\n",
    "from tqdm import tqdm\n",
    "from pylab import rcParams\n",
    "from matplotlib import rc\n",
    "from pandas.plotting import register_matplotlib_converters\n",
    "from torch import nn, optim"
   ]
  },
  {
   "cell_type": "markdown",
   "metadata": {},
   "source": [
    "# load data"
   ]
  },
  {
   "cell_type": "code",
   "execution_count": null,
   "metadata": {},
   "outputs": [],
   "source": [
    "df = pd.read_csv(\"~\\\\bigcon_data_all.csv\", header=0,engine='python')  "
   ]
  },
  {
   "cell_type": "code",
   "execution_count": null,
   "metadata": {},
   "outputs": [],
   "source": [
    "df = df.loc[1:3051]\n",
    "df = df[[\"유입량\",\n",
    "         \"데이터집단 1\",\"Unnamed: 7\",\"Unnamed: 8\",\"Unnamed: 9\",\"Unnamed: 10\",\"Unnamed: 11\",\"Unnamed: 12\",\n",
    "         \"데이터집단 2\",\"Unnamed: 14\",\"Unnamed: 15\", \"Unnamed: 16\",\"Unnamed: 17\",\"Unnamed: 18\",\"Unnamed: 19\",\n",
    "         \"데이터집단 3\",\"Unnamed: 21\",\"Unnamed: 22\",\"Unnamed: 23\",\"Unnamed: 24\",\"Unnamed: 25\",\"Unnamed: 26\",\n",
    "         \"데이터 집단 4\",\"Unnamed: 28\",\"Unnamed: 29\",\"Unnamed: 30\",\"Unnamed: 31\",\"Unnamed: 32\",\"Unnamed: 33\",\n",
    "         \"데이터 집단 5\",\"Unnamed: 35\",\"Unnamed: 36\",\"Unnamed: 37\",\"Unnamed: 38\",\"Unnamed: 39\",\"Unnamed: 40\",\n",
    "         \"데이터 집단 6\",\"Unnamed: 42\",\"Unnamed: 43\",\"Unnamed: 44\",\"Unnamed: 45\",\"Unnamed: 46\",\"Unnamed: 47\" ]]\n",
    "df.columns = [\"amount\",\n",
    "              \"average1\", \"A1\", \"B1\", \"C1\", \"D1\", \"EH1\", \"DH1\",\n",
    "              \"average2\", \"A2\", \"B2\", \"C2\", \"D2\", \"EH2\", \"DH2\",\n",
    "              \"average3\", \"A3\", \"B3\", \"C3\", \"D3\", \"EH3\", \"DH3\",\n",
    "              \"average4\", \"A4\", \"B4\", \"C4\", \"D4\", \"EH4\", \"DH4\",\n",
    "              \"average5\", \"A5\", \"B5\", \"C5\", \"D5\", \"EH5\", \"DH5\",\n",
    "              \"average6\", \"A6\", \"B6\", \"C6\", \"D6\", \"EH6\", \"DH6\"]\n",
    "df.head()"
   ]
  },
  {
   "cell_type": "code",
   "execution_count": null,
   "metadata": {},
   "outputs": [],
   "source": [
    "feature = df[[\"average5\", \"A5\", \"B5\", \"C5\", \"D5\", \"EH5\", \"DH5\"]]\n",
    "label = df[[\"amount\"]]"
   ]
  },
  {
   "cell_type": "markdown",
   "metadata": {},
   "source": [
    "# modeling"
   ]
  },
  {
   "cell_type": "code",
   "execution_count": null,
   "metadata": {},
   "outputs": [],
   "source": [
    "from sklearn.model_selection import train_test_split\n",
    "\n",
    "feature_cols = [\"average5\", \"A5\", \"B5\", \"C5\", \"D5\", \"EH5\", \"DH5\"]\n",
    "label_cols = ['amount']"
   ]
  },
  {
   "cell_type": "code",
   "execution_count": null,
   "metadata": {},
   "outputs": [],
   "source": [
    "from sklearn.preprocessing import MinMaxScaler\n",
    "\n",
    "feature.sort_index(ascending=False).reset_index(drop=True)\n",
    "\n",
    "scaler = MinMaxScaler()\n",
    "\n",
    "feature = scaler.fit_transform(feature)\n",
    "feature = pd.DataFrame(feature)\n",
    "feature.columns = feature_cols"
   ]
  },
  {
   "cell_type": "code",
   "execution_count": null,
   "metadata": {},
   "outputs": [],
   "source": [
    "train_size = 2023\n",
    "test_size = 868\n",
    "train_feature, test_feature = feature[0:train_size], feature[train_size:2891]\n",
    "train_label, test_label = label[0:train_size], label[train_size:2891]\n",
    "pred_feature, pred_label = feature[2881:], label[2881:]\n",
    "print(len(train_feature), len(test_feature), len(train_label), len(test_label), len(pred_feature), len(pred_label))"
   ]
  },
  {
   "cell_type": "code",
   "execution_count": null,
   "metadata": {},
   "outputs": [],
   "source": [
    "def make_dataset(df, label, window_size=10):\n",
    "    feature_list = []\n",
    "    label_list = []\n",
    "    for i in range(len(df) - window_size):\n",
    "        feature_list.append(np.array(df.iloc[i:i+window_size]))\n",
    "        label_list.append(np.array(label.iloc[i+window_size]))\n",
    "    return np.array(feature_list), np.array(label_list)"
   ]
  },
  {
   "cell_type": "code",
   "execution_count": null,
   "metadata": {},
   "outputs": [],
   "source": [
    "train_feature, train_label = make_dataset(train_feature, train_label, 10)\n",
    "\n",
    "x_train, x_valid, y_train, y_valid = train_test_split(train_feature, train_label, test_size=0.2)\n",
    "x_train.shape, x_valid.shape, y_train.shape, y_valid.shape"
   ]
  },
  {
   "cell_type": "code",
   "execution_count": null,
   "metadata": {},
   "outputs": [],
   "source": [
    "test_feature.shape, test_label.shape"
   ]
  },
  {
   "cell_type": "code",
   "execution_count": null,
   "metadata": {},
   "outputs": [],
   "source": [
    "pred_feature.shape, pred_label.shape"
   ]
  },
  {
   "cell_type": "code",
   "execution_count": null,
   "metadata": {},
   "outputs": [],
   "source": [
    "test_feature, test_label = make_dataset(test_feature, test_label, 10)\n",
    "test_feature.shape, test_label.shape"
   ]
  },
  {
   "cell_type": "code",
   "execution_count": null,
   "metadata": {},
   "outputs": [],
   "source": [
    "pred_feature, pred_label = make_dataset(pred_feature, pred_label)\n",
    "pred_feature.shape, pred_label.shape"
   ]
  },
  {
   "cell_type": "code",
   "execution_count": null,
   "metadata": {},
   "outputs": [],
   "source": [
    "subsequences = 2\n",
    "timesteps = x_train.shape[1]//subsequences\n",
    "X_train_series_sub = x_train.reshape((x_train.shape[0], subsequences, timesteps, 7)) #7은 들어가는 변수 개수\n",
    "X_valid_series_sub = x_valid.reshape((x_valid.shape[0], subsequences, timesteps, 7)) #7은 들어가는 변수 개수\n",
    "print('Train set shape', X_train_series_sub.shape)\n",
    "print('Validation set shape', X_valid_series_sub.shape)"
   ]
  },
  {
   "cell_type": "code",
   "execution_count": null,
   "metadata": {},
   "outputs": [],
   "source": [
    "test_feature_series_sub = test_feature.reshape((test_feature.shape[0], subsequences, timesteps, 7 )) #7은 들어가는 변수 개수"
   ]
  },
  {
   "cell_type": "code",
   "execution_count": null,
   "metadata": {},
   "outputs": [],
   "source": [
    "pred_feature_series_sub = pred_feature.reshape((pred_feature.shape[0], subsequences, timesteps, 7 )) #7은 들어가는 변수 개수"
   ]
  },
  {
   "cell_type": "code",
   "execution_count": null,
   "metadata": {},
   "outputs": [],
   "source": [
    "import tensorflow as tf\n",
    "import random\n",
    "seed = 1234\n",
    "random.seed(seed)\n",
    "tf.random.set_seed(seed)\n",
    "np.random.seed(seed)"
   ]
  },
  {
   "cell_type": "code",
   "execution_count": null,
   "metadata": {},
   "outputs": [],
   "source": [
    "from keras.models import Sequential\n",
    "from keras.layers import Dense, Dropout\n",
    "from keras.callbacks import EarlyStopping, ModelCheckpoint\n",
    "from keras.layers import LSTM\n",
    "from keras.layers import Conv1D, MaxPooling1D, Flatten, TimeDistributed\n",
    "\n",
    "\n",
    "model_cnn_lstm = Sequential()\n",
    "model_cnn_lstm.add(TimeDistributed(Conv1D(filters=32, kernel_size=2, \n",
    "                                          activation='relu'),\n",
    "                                   input_shape=(None, X_train_series_sub.shape[2],\n",
    "                                                X_train_series_sub.shape[3])))\n",
    "model_cnn_lstm.add(TimeDistributed(MaxPooling1D(pool_size=2)))\n",
    "model_cnn_lstm.add(TimeDistributed(Dropout((0.5))))\n",
    "model_cnn_lstm.add(TimeDistributed(Flatten()))\n",
    "model_cnn_lstm.add(LSTM(120, activation='tanh'))\n",
    "model_cnn_lstm.add(Dropout(0.2))\n",
    "model_cnn_lstm.add(Dense(60))\n",
    "model_cnn_lstm.add(Dense(20))\n",
    "model_cnn_lstm.add(Dense(1))\n",
    "model_cnn_lstm.compile(loss='mse', optimizer=\"adam\")"
   ]
  },
  {
   "cell_type": "code",
   "execution_count": null,
   "metadata": {},
   "outputs": [],
   "source": [
    "import os\n",
    "import keras\n",
    "\n",
    "early_stop = EarlyStopping(monitor='val_loss', patience=5)\n",
    "\n",
    "model_path = 'model'\n",
    "filename = os.path.join(model_path, 'tmp_checkpoint.h5')\n",
    "checkpoint = ModelCheckpoint(filename, monitor='val_loss', verbose=1, save_best_only=True, mode='auto')\n",
    "\n",
    "history = model_cnn_lstm.fit(X_train_series_sub, y_train,\n",
    "                    epochs=40, steps_per_epoch=50,\n",
    "                    verbose=1, \n",
    "                    validation_data=(X_valid_series_sub, y_valid), \n",
    "                    callbacks=[early_stop, checkpoint])"
   ]
  },
  {
   "cell_type": "markdown",
   "metadata": {},
   "source": [
    "# model accuracy"
   ]
  },
  {
   "cell_type": "code",
   "execution_count": null,
   "metadata": {},
   "outputs": [],
   "source": [
    "model_cnn_lstm.load_weights(filename)\n",
    "test_pred = model_cnn_lstm.predict(test_feature_series_sub)"
   ]
  },
  {
   "cell_type": "code",
   "execution_count": null,
   "metadata": {},
   "outputs": [],
   "source": [
    "# model RMSE\n",
    "from sklearn.metrics import mean_squared_error\n",
    "def RMSE(y_test, y_predict):\n",
    "    return np.sqrt(mean_squared_error(y_test, y_predict))\n",
    "print('RMSE : ', RMSE(test_label, test_pred)) "
   ]
  },
  {
   "cell_type": "code",
   "execution_count": null,
   "metadata": {},
   "outputs": [],
   "source": [
    "plt.figure(figsize=(12, 9))\n",
    "plt.plot(test_label, label = 'actual')\n",
    "plt.plot(test_pred, label = 'prediction')\n",
    "plt.legend()\n",
    "plt.show()"
   ]
  },
  {
   "cell_type": "markdown",
   "metadata": {},
   "source": [
    "# CNN forecasting"
   ]
  },
  {
   "cell_type": "code",
   "execution_count": null,
   "metadata": {},
   "outputs": [],
   "source": [
    "# 홍수 사상 26번 160개 예측\n",
    "pred = model_cnn_lstm.predict(pred_feature_series_sub)\n",
    "pred"
   ]
  },
  {
   "cell_type": "code",
   "execution_count": null,
   "metadata": {},
   "outputs": [],
   "source": [
    "# save the predicted data\n",
    "prediction=pd.DataFrame(pred)\n",
    "file_name='데이터집단5_CNN_excepted.xlsx' #예측값 저장할 엑셀 파일 이름.\n",
    "prediction.to_excel(file_name)"
   ]
  },
  {
   "cell_type": "code",
   "execution_count": null,
   "metadata": {},
   "outputs": [],
   "source": [
    "plt.figure(figsize=(12, 9))\n",
    "plt.plot(pred, label = 'prediction')\n",
    "plt.legend()\n",
    "plt.show()"
   ]
  },
  {
   "cell_type": "markdown",
   "metadata": {},
   "source": [
    "# plot whole y values"
   ]
  },
  {
   "cell_type": "code",
   "execution_count": null,
   "metadata": {},
   "outputs": [],
   "source": [
    "a=pd.DataFrame(df[0:2891][\"amount\"])\n",
    "b=pd.DataFrame(pred, columns = [\"amount\"])\n",
    "mod_df = a.append(b.loc[:], ignore_index=True)\n",
    "mod_df"
   ]
  },
  {
   "cell_type": "code",
   "execution_count": null,
   "metadata": {},
   "outputs": [],
   "source": [
    "plt.figure(figsize=(16,9))\n",
    "plt.plot(mod_df)\n",
    "plt.title(\"time series\")\n",
    "plt.ylabel(\"total influx\")\n",
    "plt.show()"
   ]
  }
 ],
 "metadata": {
  "interpreter": {
   "hash": "32d951a4fb713309e6a15ac834ff0fb502c06e5ab8683a64badeae54cb1002e2"
  },
  "kernelspec": {
   "display_name": "Python 3",
   "language": "python",
   "name": "python3"
  },
  "language_info": {
   "codemirror_mode": {
    "name": "ipython",
    "version": 3
   },
   "file_extension": ".py",
   "mimetype": "text/x-python",
   "name": "python",
   "nbconvert_exporter": "python",
   "pygments_lexer": "ipython3",
   "version": "3.8.5"
  }
 },
 "nbformat": 4,
 "nbformat_minor": 4
}
